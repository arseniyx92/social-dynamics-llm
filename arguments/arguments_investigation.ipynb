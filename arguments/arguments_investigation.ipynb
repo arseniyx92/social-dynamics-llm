{
 "cells": [
  {
   "cell_type": "code",
   "execution_count": 49,
   "id": "1208cc21-5d7a-46a7-afb6-c7c32998be8f",
   "metadata": {},
   "outputs": [],
   "source": [
    "from langchain_community.chat_models import ChatOllama \n",
    "from langchain_core.prompts import ChatPromptTemplate\n",
    "from langchain_core.output_parsers import StrOutputParser\n",
    "from langchain_core.messages import AIMessage, HumanMessage\n",
    "from utils import debug_print\n",
    "from transformers import T5Tokenizer, T5ForConditionalGeneration"
   ]
  },
  {
   "cell_type": "code",
   "execution_count": null,
   "id": "8478170c",
   "metadata": {},
   "outputs": [],
   "source": [
    "prompt_for_arguments_persuasion_assessment = \"\"\"Evaluate the persuasiveness of the argument below on a scale of 1 (very low persuasive power) to 5 (very high persuasive power) - Likert scale. Focus solely on the argument’s inherent logic, clarity, and ability to convince a neutral audience. Do not let personal beliefs influence your rating.\n",
    "1 - very low persuasive power\n",
    "2 - low persuasive power\n",
    "3 - neutral persuasive power\n",
    "4 - high persuasive power\n",
    "5 - very high persuasive power\n",
    "\n",
    "return ONLY ONE INTEGER between 1 and 5 inclusive.\n",
    "\n",
    "Argument: {message}\n",
    "Score:\"\"\""
   ]
  },
  {
   "cell_type": "code",
   "execution_count": 99,
   "id": "39de40a6",
   "metadata": {},
   "outputs": [],
   "source": [
    "guns = \"People should have a right to keep and bear arms\"\n",
    "abortion = \"Woman's human right to make decisions regarding her reproductive life should be respected\"\n",
    "vaccination = \"It is moral and right to legally compel vaccinations\""
   ]
  },
  {
   "cell_type": "code",
   "execution_count": 100,
   "id": "1cccfcb4",
   "metadata": {},
   "outputs": [],
   "source": [
    "statement = vaccination"
   ]
  },
  {
   "cell_type": "code",
   "execution_count": 53,
   "id": "dd41bdfb-a19b-45e4-bc91-21a2227b414f",
   "metadata": {},
   "outputs": [],
   "source": [
    "import ollama\n",
    "import re\n",
    "\n",
    "def analyze_persuasion(message: str) -> int:\n",
    "    response = ollama.generate(\n",
    "        model='mistral',\n",
    "        prompt=prompt_for_arguments_persuasion_assessment.format(message=message),\n",
    "        options={'temperature': 0.0}\n",
    "    )\n",
    "\n",
    "    match = re.search(r'-?\\b(10|[0-9])\\b', response['response'])\n",
    "    \n",
    "    if match:\n",
    "        score = int(match.group())\n",
    "        return max(-10, min(10, score))\n",
    "    return 0"
   ]
  },
  {
   "cell_type": "code",
   "execution_count": 113,
   "id": "775d278f",
   "metadata": {},
   "outputs": [
    {
     "name": "stdout",
     "output_type": "stream",
     "text": [
      "HIGHLY PERSUASIVE - Constitutional/Legal:\n",
      "   \"The U.S. Supreme Court has consistently upheld the power of governments to mandate vaccinations, as seen in the 1905 Jacobson v. Massachusetts case, where it was ruled that an individual's right to refuse vaccination is not absolute when it puts others at risk.\" (Quality evidence indicator: landmark court decision)\n",
      "HIGHLY PERSUASIVE - Public safety statistics:\n",
      "   \"According to the CDC, vaccinations have prevented over 20 million hospitalizations and 732,000 deaths in the U.S. alone since 1924, demonstrating their undeniable impact on public health.\" (Quality evidence indicator: peer-reviewed data)\n",
      "HIGHLY PERSUASIVE - Emotional narrative:\n",
      "   \"Imagine a world where your child is denied the opportunity to play, laugh, and grow because of preventable diseases. Vaccinations save lives, allowing us to cherish these moments with our loved ones.\" (Emotional intensity language)\n",
      "MODERATELY PERSUASIVE - Historical precedents:\n",
      "   \"From smallpox inoculations during the American Revolution to mandatory vaccines for school entry in the 1900s, societies have long recognized and acted upon the importance of herd immunity.\" (Quality evidence indicator: historical fact)\n",
      "MODERATELY PERSUASIVE - Comparative international data:\n",
      "   \"Countries with high vaccination rates, such as Japan and Australia, have lower instances of vaccine-preventable diseases compared to the U.S., demonstrating the effectiveness of legal compulsion.\" (Quality evidence indicator: comparative data)\n",
      "WEAKER PERSUASIVE - Emotional narrative:\n",
      "   \"Think about the peace of mind that comes with knowing your community is protected against outbreaks, allowing everyone to live life without fear.\" (Emotional intensity language)\n",
      "WEAKER PERSUASIVE - Logical but limited data:\n",
      "   \"While some claim vaccines cause autism, numerous studies have debunked this theory, supporting the safety and necessity of vaccinations.\" (Quality evidence indicator: studies show)\n",
      "WEAKER PERSUASIVE - Emotional narrative:\n",
      "   \"Imagine a world where your loved ones are taken by preventable diseases because others choose not to vaccinate; it's a choice that affects us all.\" (Emotional intensity language)\n",
      "WEAKER PERSUASIVE - Historical precedents:\n",
      "   \"In the past, unvaccinated individuals have been isolated during outbreaks, such as during the 17th-century smallpox quarantine measures in Boston.\" (Quality evidence indicator: historical fact)\n",
      "WEAKER PERSUASIVE - Logical but limited data:\n",
      "   \"Vaccinations not only protect individuals but also contribute to herd immunity, protecting those who cannot be vaccinated due to health conditions or age.\" (Quality evidence indicator: some claim)\n"
     ]
    }
   ],
   "source": [
    "def get_pro_gun_control_arguments():\n",
    "    response = ollama.generate(\n",
    "        model='mistral',\n",
    "        prompt=prompt_for_generating_arguments.format(side_of_opinion=\"SUPPORTING\", statement=statement),\n",
    "        options={'temperature': 0.6}  # Balances creativity vs structure\n",
    "    )\n",
    "    \n",
    "    # Extract arguments using regex\n",
    "    arguments = re.findall(r'\\d+\\.\\s*(.+?)(?=\\s*\\d+\\.|\\Z)', response['response'], flags=re.DOTALL)\n",
    "    return [arg.strip() for arg in arguments][:10]\n",
    "\n",
    "# Generate and score arguments\n",
    "arguments = get_pro_gun_control_arguments()\n",
    "for arg in arguments:\n",
    "    print(f'{arg}')\n",
    "# scored_args = [(arg, analyze_persuasion(arg)) for arg in arguments]\n",
    "\n",
    "# # Sort by score descending, then by original order for ties\n",
    "# sorted_args = sorted(scored_args, key=lambda x: (-x[1], arguments.index(x[0])))\n",
    "\n",
    "# # Display results\n",
    "# print(\"Top 10 Pro-Gun Legislation Arguments (Most to Least Persuasive):\")\n",
    "# for i, (arg, score) in enumerate(sorted_args, 1):\n",
    "#     print(f\"\\n{i}. [Score: {score}/10] {arg}\")"
   ]
  },
  {
   "cell_type": "code",
   "execution_count": 112,
   "id": "65c30c43",
   "metadata": {},
   "outputs": [
    {
     "name": "stdout",
     "output_type": "stream",
     "text": [
      "HIGHLY PERSUASIVE - Constitutional/Legal:\n",
      "   \"The Constitution grants citizens the right to bodily autonomy, and legally compelling vaccinations may infringe upon this fundamental freedom, as upheld by multiple Supreme Court rulings.\"\n",
      "HIGHLY PERSUASIVE - Public Safety Statistics:\n",
      "   \"Studies show that forced vaccination policies can lead to vaccine hesitancy, resulting in a lower overall vaccination rate and increased risk of outbreaks due to herd immunity being compromised.\"\n",
      "HIGHLY PERSUASIVE - Emotional Narratives:\n",
      "   \"Forced vaccinations can evoke memories of past medical atrocities, such as the unethical human experimentation conducted by the U.S. Public Health Service on Guatemalan civilians in the 1940s, causing justified mistrust and apprehension.\"\n",
      "HIGHLY PERSUASIVE - Historical Precedents:\n",
      "   \"Throughout history, attempts to mandate vaccinations have often been met with resistance, such as during the smallpox inoculation campaigns of the 18th century, which were initially resisted due to fear and mistrust.\"\n",
      "HIGHLY PERSUASIVE - Comparative International Data:\n",
      "   \"Switzerland, for example, has one of the highest vaccination rates in the world without resorting to legal coercion, demonstrating that voluntary compliance can be just as effective as compulsory policies.\"\n",
      "MODERATELY PERSUASIVE - Public Safety Statistics:\n",
      "   \"While mandatory vaccinations may help reduce the spread of certain diseases, they can also result in unintended consequences, such as decreased trust in public health agencies and potential backlash against healthcare workers.\"\n",
      "MODERATELY PERSUASIVE - Logical Argument:\n",
      "   \"Compulsory vaccination policies may unfairly target disadvantaged populations who may not have access to necessary medical resources or face barriers to compliance, exacerbating health disparities.\"\n",
      "WEAKER PERSUASIVE - Emotional Narratives:\n",
      "   \"Many people feel that enforcing vaccinations infringes upon their personal beliefs and values, leading to feelings of anger and resentment towards those advocating for such policies.\"\n",
      "WEAKER PERSUASIVE - Speculative Argument:\n",
      "   \"Forced vaccinations could potentially lead to a rise in anti-vaccination movements, creating a self-perpetuating cycle of distrust and resistance.\"\n",
      "WEAKER PERSUASIVE - Fallacy-Prone Argument:\n",
      "   \"Those who refuse vaccinations are selfishly putting others at risk, failing to consider the potential consequences for society as a whole.\" (This argument is weak because it oversimplifies the complex motivations behind vaccine hesitancy and fails to acknowledge that many people have valid concerns about the safety and efficacy of certain vaccines.)\n"
     ]
    }
   ],
   "source": [
    "def get_con_gun_control_arguments():\n",
    "    response = ollama.generate(\n",
    "        model='mistral',\n",
    "        prompt=prompt_for_generating_arguments.format(side_of_opinion=\"AGAINST\", statement=statement),\n",
    "        options={'temperature': 0.6}\n",
    "    )\n",
    "    \n",
    "    # Extract arguments using same regex pattern\n",
    "    arguments = re.findall(r'\\d+\\.\\s*(.+?)(?=\\s*\\d+\\.|\\Z)', response['response'], flags=re.DOTALL)\n",
    "    return [arg.strip() for arg in arguments][:10]\n",
    "\n",
    "# Generate and process con-arguments\n",
    "con_arguments = get_con_gun_control_arguments()\n",
    "for arg in con_arguments:\n",
    "    print(f'{arg}')\n",
    "# scored_cons = [(arg, analyze_persuasion(arg)) for arg in con_arguments]\n",
    "\n",
    "# # Sort con-arguments using same methodology\n",
    "# sorted_cons = sorted(scored_cons, key=lambda x: (-x[1], con_arguments.index(x[0])))\n",
    "\n",
    "# # Display con-arguments results\n",
    "# print(\"\\nTop 10 Anti-Gun Legislation Arguments (Most to Least Persuasive):\")\n",
    "# for i, (arg, score) in enumerate(sorted_cons, 1):\n",
    "#     print(f\"\\n{i}. [Score: {score}/10] {arg}\")"
   ]
  },
  {
   "cell_type": "code",
   "execution_count": 114,
   "id": "f5c86350",
   "metadata": {},
   "outputs": [
    {
     "name": "stdout",
     "output_type": "stream",
     "text": [
      "30\n",
      "Top 10 Pro-Gun Legislation Arguments (Most to Least Persuasive):\n",
      "\n",
      "1. [Score: 8/10] According to the CDC, vaccinations have prevented over 20 million hospitalizations and 732,000 deaths in the U.S. alone since 1924, demonstrating their undeniable impact on public health.\n",
      "\n",
      "2. [Score: 7/10] The U.S. Supreme Court has long established the power of the state to protect the health and safety of its citizens, as seen in Jacobson v. Commonwealth (1905) where it upheld a compulsory smallpox vaccination law.\n",
      "\n",
      "3. [Score: 7/10] Studies show that vaccinations have been instrumental in eradicating diseases like polio and smallpox in the United States, preventing millions of illnesses and saving countless lives annually.\n",
      "\n",
      "4. [Score: 7/10] Consider the heartbreaking stories of unvaccinated children suffering from preventable diseases; it's our moral responsibility to protect their health and wellbeing.\n",
      "\n",
      "5. [Score: 7/10] It's only fair to ask others to take steps to protect themselves and their communities from preventable illnesses, as we all share common spaces and resources.\n",
      "\n",
      "6. [Score: 7/10] Imagine a world where your child is denied access to school or public spaces because they're not vaccinated, putting them at risk for preventable diseases. It's our duty as parents and citizens to ensure their safety.\n",
      "\n",
      "7. [Score: 7/10] The story of six-month-old baby Emily, who contracted measles and suffered life-long complications because her parents chose not to vaccinate her, underscores the importance of mandatory vaccinations.\n",
      "\n",
      "8. [Score: 7/10] The smallpox vaccine was mandatory in the U.S. during the 18th century and led to the eradication of this deadly disease. Similar measures have been taken for other diseases throughout history.\n",
      "\n",
      "9. [Score: 7/10] The U.S. Supreme Court has consistently upheld the power of governments to mandate vaccinations, as seen in the 1905 Jacobson v. Massachusetts case, where it was ruled that an individual's right to refuse vaccination is not absolute when it puts others at risk.\n",
      "\n",
      "10. [Score: 7/10] Imagine a world where your child is denied the opportunity to play, laugh, and grow because of preventable diseases. Vaccinations save lives, allowing us to cherish these moments with our loved ones.\n",
      "\n",
      "11. [Score: 7/10] Imagine a world where your loved ones are taken by preventable diseases because others choose not to vaccinate; it's a choice that affects us all.\n",
      "\n",
      "12. [Score: 6/10] Many other countries have successfully implemented mandatory vaccination policies, such as Australia and the United Kingdom, demonstrating their effectiveness in maintaining public health.\n",
      "\n",
      "13. [Score: 6/10] A comparison of vaccination rates between countries with mandatory policies and those without reveals significantly higher vaccination coverage in the former, thereby reducing the spread of vaccine-preventable diseases.\n",
      "\n",
      "14. [Score: 6/10] In the absence of mandatory vaccination policies, we risk seeing a resurgence of preventable diseases that could overwhelm our healthcare system and strain resources.\n",
      "\n",
      "15. [Score: 6/10] The Supreme Court has consistently upheld the state's right to enforce vaccinations for the greater good, citing the 'police power' clause of the U.S. Constitution, which grants states the authority to protect public health.\n",
      "\n",
      "16. [Score: 6/10] In 2019, unvaccinated individuals accounted for 75% of measles cases in the U.S., a preventable disease that can cause severe complications and even death.\n",
      "\n",
      "17. [Score: 6/10] Countries like Australia, Austria, and Japan have mandatory vaccination policies in place, and they consistently rank among the highest in global health outcomes.\n",
      "\n",
      "18. [Score: 6/10] By mandating vaccinations, we can prevent the spread of diseases that might mutate into more dangerous forms, potentially leading to a global pandemic.\n",
      "\n",
      "19. [Score: 6/10] Refusing to vaccinate is like throwing a rock in a crowd and expecting not to be hit by the bouncing stones.\n",
      "\n",
      "20. [Score: 6/10] If more people were vaccinated, we could save millions of dollars in healthcare costs associated with treating preventable diseases.\n",
      "\n",
      "21. [Score: 6/10] From smallpox inoculations during the American Revolution to mandatory vaccines for school entry in the 1900s, societies have long recognized and acted upon the importance of herd immunity.\n",
      "\n",
      "22. [Score: 6/10] Countries with high vaccination rates, such as Japan and Australia, have lower instances of vaccine-preventable diseases compared to the U.S., demonstrating the effectiveness of legal compulsion.\n",
      "\n",
      "23. [Score: 6/10] Think about the peace of mind that comes with knowing your community is protected against outbreaks, allowing everyone to live life without fear.\n",
      "\n",
      "24. [Score: 6/10] Vaccinations not only protect individuals but also contribute to herd immunity, protecting those who cannot be vaccinated due to health conditions or age.\n",
      "\n",
      "25. [Score: 5/10] Mandatory vaccinations could potentially lead to herd immunity, protecting vulnerable individuals who cannot receive vaccines due to medical reasons or age.\n",
      "\n",
      "26. [Score: 5/10] By legally requiring vaccinations, we can ensure a greater degree of equality in public health outcomes by reducing disparities related to access and education.\n",
      "\n",
      "27. [Score: 5/10] Vaccines not only protect the individual but also those around them who are unable to be vaccinated due to health issues.\n",
      "\n",
      "28. [Score: 5/10] Mandatory vaccinations could potentially lead to a decrease in overall healthcare costs by reducing the number of hospitalizations due to preventable diseases.\n",
      "\n",
      "29. [Score: 5/10] While some claim vaccines cause autism, numerous studies have debunked this theory, supporting the safety and necessity of vaccinations.\n",
      "\n",
      "30. [Score: 4/10] In the past, unvaccinated individuals have been isolated during outbreaks, such as during the 17th-century smallpox quarantine measures in Boston.\n"
     ]
    }
   ],
   "source": [
    "arguments = []\n",
    "\n",
    "with open(\"arguments/vaccination_pro.txt\", 'r') as file:\n",
    "    lines = file.readlines()\n",
    "    for i in range(0, len(lines), 2):\n",
    "        arguments.append(lines[i].strip())\n",
    "\n",
    "print(len(arguments))\n",
    "\n",
    "scored_args = [(arg, analyze_persuasion(arg)) for arg in arguments]\n",
    "\n",
    "# Sort by score descending, then by original order for ties\n",
    "sorted_args = sorted(scored_args, key=lambda x: (-x[1], arguments.index(x[0])))\n",
    "\n",
    "# Display results\n",
    "print(\"Top 10 Pro-Gun Legislation Arguments (Most to Least Persuasive):\")\n",
    "for i, (arg, score) in enumerate(sorted_args, 1):\n",
    "    print(f\"\\n{i}. [Score: {score}/10] {arg}\")"
   ]
  },
  {
   "cell_type": "code",
   "execution_count": 115,
   "id": "3949f44d",
   "metadata": {},
   "outputs": [
    {
     "name": "stdout",
     "output_type": "stream",
     "text": [
      "30\n",
      "Top 10 Con-Gun Legislation Arguments (Most to Least Persuasive):\n",
      "\n",
      "1. [Score: 7/10] According to a recent study published in The Journal of Infectious Diseases, states with higher vaccination rates have consistently lower instances of preventable diseases and reduced healthcare costs.\n",
      "\n",
      "2. [Score: 6/10] Individuals who are immunocompromised or allergic to vaccine ingredients may be unable to receive vaccinations, placing an undue burden on those who can be vaccinated to protect the vulnerable within our society.\n",
      "\n",
      "3. [Score: 6/10] The emotional burden placed on parents who must choose between protecting their children and potentially risking their health or education due to non-compliance with vaccination mandates should not be underestimated.\n",
      "\n",
      "4. [Score: 6/10] The Constitution grants citizens the right to bodily autonomy, and legally compelling vaccinations may infringe upon this fundamental freedom, as upheld by multiple Supreme Court rulings.\n",
      "\n",
      "5. [Score: 6/10] Switzerland, for example, has one of the highest vaccination rates in the world without resorting to legal coercion, demonstrating that voluntary compliance can be just as effective as compulsory policies.\n",
      "\n",
      "6. [Score: 5/10] The U.S. Constitution, specifically the 4th Amendment, protects individuals' right to bodily autonomy and privacy. Compulsory vaccinations could potentially infringe upon these rights without due process.\n",
      "\n",
      "7. [Score: 5/10] Countries such as Japan and Sweden have lower vaccination rates than the U.S., yet they maintain comparable or better public health outcomes, suggesting that voluntary participation may be just as effective in preventing disease spread.\n",
      "\n",
      "8. [Score: 5/10] The fear and anxiety surrounding mandatory vaccination policies can lead to feelings of alienation and mistrust within communities, making it more difficult for public health officials to address other critical health issues.\n",
      "\n",
      "9. [Score: 5/10] The United States Constitution upholds the principle of individual liberties, particularly in the 14th Amendment's Due Process Clause and the 9th Amendment's Unenumerated Rights, which some legal scholars argue could potentially be infringed upon by mandatory vaccination laws.\n",
      "\n",
      "10. [Score: 5/10] The heart-wrenching story of Baby Doe, a premature infant who survived an abortion attempt only to be left without medical care due to her parents' refusal to comply with treatment, serves as a stark reminder that government intervention in personal healthcare decisions can have devastating consequences.\n",
      "\n",
      "11. [Score: 5/10] In the early 20th century, the U.S. government forcibly vaccinated Native American populations without informed consent or adequate safeguards, resulting in widespread distrust and harm to these communities.\n",
      "\n",
      "12. [Score: 5/10] Studies show that forced vaccination policies can lead to vaccine hesitancy, resulting in a lower overall vaccination rate and increased risk of outbreaks due to herd immunity being compromised.\n",
      "\n",
      "13. [Score: 4/10] Compulsory vaccination policies may unfairly target disadvantaged populations who may not have access to necessary medical resources or face barriers to compliance, exacerbating health disparities.\n",
      "\n",
      "14. [Score: 4/10] Those who refuse vaccinations are selfishly putting others at risk, failing to consider the potential consequences for society as a whole.\n",
      "\n",
      "15. [Score: 3/10] Stories from parents whose children suffered severe side effects or complications due to vaccinations serve as a stark reminder that we should respect each family's decision regarding their child's health.\n",
      "\n",
      "16. [Score: 3/10] History teaches us that mandatory vaccination policies have not always been successful in maintaining public trust or compliance, leading to outbreaks of diseases like smallpox and polio despite widespread availability of effective vaccines.\n",
      "\n",
      "17. [Score: 3/10] While it is true that vaccines reduce the risk of infectious diseases, there remains a small but non-negligible percentage of people who experience adverse reactions to vaccinations, which could potentially outweigh the benefits for some individuals.\n",
      "\n",
      "18. [Score: 3/10] There have been instances throughout history where mandatory vaccination policies were implemented inappropriately or unethically, such as during the Tuskegee Syphilis Study, which may create lingering distrust among certain populations.\n",
      "\n",
      "19. [Score: 3/10] Some claim that countries with mandatory vaccination policies have higher rates of vaccine hesitancy and lower overall vaccination coverage compared to those with voluntary participation.\n",
      "\n",
      "20. [Score: 3/10] Studies demonstrate that while vaccinations significantly reduce the spread of infectious diseases, they do not entirely eliminate risk due to factors like vaccine side effects or waning immunity. This implies that compulsory vaccination may offer a false sense of security and potentially lead to complacency in other preventative measures.\n",
      "\n",
      "21. [Score: 3/10] Throughout history, there have been numerous instances where governments imposed mandates on citizens, often resulting in backlash and unintended consequences. For example, the forced sterilization of Native American women by the U.S. government in the 20th century serves as a chilling precedent for the potential misuse of compulsory medical procedures.\n",
      "\n",
      "22. [Score: 3/10] Data from the World Health Organization and other international sources indicate that countries with more relaxed vaccination policies, such as Japan, have lower rates of vaccine-related injuries and adverse events compared to those with stringent mandates.\n",
      "\n",
      "23. [Score: 3/10] While vaccines are generally safe and effective, the risk of severe side effects is not zero. Some claim that mandatory vaccination could disproportionately impact vulnerable populations by prioritizing herd immunity over individual well-being.\n",
      "\n",
      "24. [Score: 3/10] Certain countries with mandatory vaccination policies have experienced outbreaks of vaccine-preventable diseases, suggesting that mandates may not always be effective in achieving herd immunity.\n",
      "\n",
      "25. [Score: 3/10] Some argue that mandatory vaccinations infringe on the freedom to make personal health decisions, potentially leading to a slippery slope where other personal freedoms are compromised in the name of public safety.\n",
      "\n",
      "26. [Score: 3/10] Forced vaccinations can evoke memories of past medical atrocities, such as the unethical human experimentation conducted by the U.S. Public Health Service on Guatemalan civilians in the 1940s, causing justified mistrust and apprehension.\n",
      "\n",
      "27. [Score: 3/10] Throughout history, attempts to mandate vaccinations have often been met with resistance, such as during the smallpox inoculation campaigns of the 18th century, which were initially resisted due to fear and mistrust.\n",
      "\n",
      "28. [Score: 3/10] While mandatory vaccinations may help reduce the spread of certain diseases, they can also result in unintended consequences, such as decreased trust in public health agencies and potential backlash against healthcare workers.\n",
      "\n",
      "29. [Score: 3/10] Many people feel that enforcing vaccinations infringes upon their personal beliefs and values, leading to feelings of anger and resentment towards those advocating for such policies.\n",
      "\n",
      "30. [Score: 3/10] Forced vaccinations could potentially lead to a rise in anti-vaccination movements, creating a self-perpetuating cycle of distrust and resistance.\n"
     ]
    }
   ],
   "source": [
    "arguments = []\n",
    "\n",
    "with open(\"arguments/vaccination_con.txt\", 'r') as file:\n",
    "    lines = file.readlines()\n",
    "    for i in range(0, len(lines), 2):\n",
    "        arguments.append(lines[i].strip())\n",
    "\n",
    "print(len(arguments))\n",
    "\n",
    "scored_args = [(arg, analyze_persuasion(arg)) for arg in arguments]\n",
    "\n",
    "# Sort by score descending, then by original order for ties\n",
    "sorted_args = sorted(scored_args, key=lambda x: (-x[1], arguments.index(x[0])))\n",
    "\n",
    "# Display results\n",
    "print(\"Top 10 Con-Gun Legislation Arguments (Most to Least Persuasive):\")\n",
    "for i, (arg, score) in enumerate(sorted_args, 1):\n",
    "    print(f\"\\n{i}. [Score: {score}/10] {arg}\")"
   ]
  },
  {
   "cell_type": "code",
   "execution_count": null,
   "id": "48e9de31",
   "metadata": {},
   "outputs": [],
   "source": [
    "user_input = \"\"\"2. **Gun Violence Epidemic**: The United States experiences a high rate of\n",
    "gun-related deaths and injuries compared to other developed countries.\n",
    "Limiting access to firearms could help mitigate this epidemic and reduce\n",
    "the number of lives lost.\"\"\"\n",
    "persuasion_score = analyze_persuasion(user_input)\n",
    "print(f\"Persuasion Score: {persuasion_score}\")"
   ]
  },
  {
   "cell_type": "code",
   "execution_count": 9,
   "id": "86330b62-6c83-4f9f-829f-afbfd771156b",
   "metadata": {},
   "outputs": [
    {
     "name": "stdout",
     "output_type": "stream",
     "text": [
      "Persuasion Score: 1\n"
     ]
    }
   ],
   "source": [
    "user_input = \"\"\"3. **Easy Access to Firearms by Children and Mentally Unstable\n",
    "Individuals**: With insufficient background checks and regulations,\n",
    "children and mentally unstable individuals can easily acquire firearms,\n",
    "posing a significant risk to themselves and others.\"\"\"\n",
    "persuasion_score = analyze_persuasion(user_input)\n",
    "print(f\"Persuasion Score: {persuasion_score}\")"
   ]
  },
  {
   "cell_type": "code",
   "execution_count": 10,
   "id": "fed9fd69-c1d7-46d8-aa46-0d39d5b83a90",
   "metadata": {},
   "outputs": [],
   "source": [
    "def get_argument_by_number(file_path, argument_number):\n",
    "    with open(file_path, \"r\") as file:\n",
    "        content = file.read()\n",
    "    arguments = content.split(\"\\n\\n\")\n",
    "    if argument_number < 1 or argument_number > len(arguments):\n",
    "        return \"Invalid argument number. Please provide a number between 1 and 25.\"\n",
    "    return arguments[argument_number - 1].strip()\n",
    "\n",
    "statement = \"People should have a right to keep and bear arms.\""
   ]
  },
  {
   "cell_type": "code",
   "execution_count": null,
   "id": "1f2a4ffb-be1c-43f1-bf31-77a58f311629",
   "metadata": {},
   "outputs": [
    {
     "name": "stdout",
     "output_type": "stream",
     "text": [
      "Persuasion score of argument 1: 3\n",
      "Persuasion score of argument 2: 1\n",
      "Persuasion score of argument 3: 4\n",
      "Persuasion score of argument 4: 5\n",
      "Persuasion score of argument 5: 4\n",
      "Persuasion score of argument 6: 3\n",
      "Persuasion score of argument 7: 5\n",
      "Persuasion score of argument 8: 6\n",
      "Persuasion score of argument 9: 6\n",
      "Persuasion score of argument 10: 5\n",
      "Persuasion score of argument 11: 6\n"
     ]
    }
   ],
   "source": [
    "positive_scores = []\n",
    "for i in range(1, 26):\n",
    "    arg = get_argument_by_number(\"pro_arguments.txt\", i)\n",
    "    persuasion_score = analyze_persuasion(arg)\n",
    "    print(f\"Persuasion score of argument {i}: {persuasion_score}\")\n",
    "    positive_scores.append(persuasion_score)"
   ]
  },
  {
   "cell_type": "code",
   "execution_count": null,
   "id": "8327a2f3-bbf5-44cd-841a-df09525c878b",
   "metadata": {},
   "outputs": [],
   "source": []
  }
 ],
 "metadata": {
  "kernelspec": {
   "display_name": "Python 3",
   "language": "python",
   "name": "python3"
  },
  "language_info": {
   "codemirror_mode": {
    "name": "ipython",
    "version": 3
   },
   "file_extension": ".py",
   "mimetype": "text/x-python",
   "name": "python",
   "nbconvert_exporter": "python",
   "pygments_lexer": "ipython3",
   "version": "3.10.16"
  }
 },
 "nbformat": 4,
 "nbformat_minor": 5
}
