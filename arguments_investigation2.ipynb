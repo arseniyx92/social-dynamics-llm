{
 "cells": [
  {
   "cell_type": "code",
   "execution_count": 3,
   "id": "7dcc7be7-9684-462a-bb1f-bca532a6161a",
   "metadata": {},
   "outputs": [],
   "source": [
    "from langchain_community.chat_models import ChatOllama \n",
    "from langchain_core.prompts import ChatPromptTemplate\n",
    "from langchain_core.output_parsers import StrOutputParser\n",
    "from langchain_core.messages import AIMessage, HumanMessage\n",
    "from utils import debug_print\n",
    "from transformers import T5Tokenizer, T5ForConditionalGeneration"
   ]
  },
  {
   "cell_type": "code",
   "execution_count": 4,
   "id": "a962e542-5c1b-4cf0-bf3f-0192a4239b32",
   "metadata": {},
   "outputs": [
    {
     "name": "stdout",
     "output_type": "stream",
     "text": [
      "Persuasion Score: 4\n"
     ]
    }
   ],
   "source": [
    "import ollama\n",
    "import re\n",
    "\n",
    "def analyze_persuasion(message: str) -> int:\n",
    "    \"\"\"\n",
    "    Analyzes the persuasion power of a message and returns a score between -10 and 10.\n",
    "    \"\"\"\n",
    "    prompt = f\"\"\"Evaluate the argument's persuasive power using these criteria:\n",
    "1. Emotional impact (-10 to 10)\n",
    "2. Logical consistency (-10 to 10)\n",
    "3. Evidence quality (-10 to 10)\n",
    "4. Rhetorical effectiveness (-10 to 10)\n",
    "5. Overall tone (-10 to 10)\n",
    "\n",
    "Calculate the average score and return ONLY ONE INTEGER between -10 and 10.\n",
    "Negative scores indicate counterproductive arguments.\n",
    "\n",
    "Argument: {message}\n",
    "Final Score:\"\"\"\n",
    "    \n",
    "    response = ollama.generate(\n",
    "        model='mistral',\n",
    "        prompt=prompt,\n",
    "        options={'temperature': 0.3}\n",
    "    )\n",
    "\n",
    "    match = re.search(r'-?\\b(10|[0-9])\\b', response['response'])\n",
    "    \n",
    "    if match:\n",
    "        score = int(match.group())\n",
    "        return max(-10, min(10, score))\n",
    "    return 0\n",
    "\n",
    "user_input = \"\"\"2. **Gun Violence Epidemic**: The United States experiences a high rate of\n",
    "gun-related deaths and injuries compared to other developed countries.\n",
    "Limiting access to firearms could help mitigate this epidemic and reduce\n",
    "the number of lives lost.\"\"\"\n",
    "persuasion_score = analyze_persuasion(user_input)\n",
    "print(f\"Persuasion Score: {persuasion_score}\")"
   ]
  },
  {
   "cell_type": "code",
   "execution_count": 5,
   "id": "cfe31964-5236-4307-a2ba-472f247d0219",
   "metadata": {},
   "outputs": [],
   "source": [
    "def get_argument_by_number(file_path, argument_number):\n",
    "    with open(file_path, \"r\") as file:\n",
    "        content = file.read()\n",
    "    arguments = content.split(\"\\n\\n\")\n",
    "    if argument_number < 1 or argument_number > len(arguments):\n",
    "        return \"Invalid argument number. Please provide a number between 1 and 25.\"\n",
    "    return arguments[argument_number - 1].strip()\n",
    "\n",
    "statement = \"People should have a right to keep and bear arms.\""
   ]
  },
  {
   "cell_type": "code",
   "execution_count": 9,
   "id": "3cc5bdd6-0fca-4a35-b911-dc888d6c4b68",
   "metadata": {},
   "outputs": [
    {
     "name": "stdout",
     "output_type": "stream",
     "text": [
      "1 Persuasion score of argument 1: 3\n",
      "1 Persuasion score of argument 2: 4\n",
      "1 Persuasion score of argument 3: 1\n",
      "1 Persuasion score of argument 4: -10\n",
      "1 Persuasion score of argument 5: 4\n",
      "1 Persuasion score of argument 6: 5\n",
      "1 Persuasion score of argument 7: 4\n",
      "1 Persuasion score of argument 8: 6\n",
      "1 Persuasion score of argument 9: 5\n",
      "1 Persuasion score of argument 10: 6\n",
      "1 Persuasion score of argument 11: 3\n",
      "1 Persuasion score of argument 12: 3\n",
      "1 Persuasion score of argument 13: 4\n",
      "1 Persuasion score of argument 14: 3\n",
      "1 Persuasion score of argument 15: 3\n",
      "1 Persuasion score of argument 16: 3\n",
      "1 Persuasion score of argument 17: 5\n",
      "1 Persuasion score of argument 18: 3\n",
      "1 Persuasion score of argument 19: 6\n",
      "1 Persuasion score of argument 20: 3\n",
      "1 Persuasion score of argument 21: 4\n",
      "1 Persuasion score of argument 22: 3\n",
      "1 Persuasion score of argument 23: 6\n",
      "1 Persuasion score of argument 24: 5\n",
      "1 Persuasion score of argument 25: 3\n",
      "2 Persuasion score of argument 1: 3\n",
      "2 Persuasion score of argument 2: 4\n",
      "2 Persuasion score of argument 3: -10\n",
      "2 Persuasion score of argument 4: 1\n",
      "2 Persuasion score of argument 5: 4\n",
      "2 Persuasion score of argument 6: 5\n",
      "2 Persuasion score of argument 7: 5\n",
      "2 Persuasion score of argument 8: 5\n",
      "2 Persuasion score of argument 9: 4\n",
      "2 Persuasion score of argument 10: 6\n",
      "2 Persuasion score of argument 11: 3\n",
      "2 Persuasion score of argument 12: 4\n",
      "2 Persuasion score of argument 13: 4\n",
      "2 Persuasion score of argument 14: 3\n",
      "2 Persuasion score of argument 15: 3\n",
      "2 Persuasion score of argument 16: 3\n",
      "2 Persuasion score of argument 17: 5\n",
      "2 Persuasion score of argument 18: 4\n",
      "2 Persuasion score of argument 19: 6\n",
      "2 Persuasion score of argument 20: 3\n",
      "2 Persuasion score of argument 21: 4\n",
      "2 Persuasion score of argument 22: 3\n",
      "2 Persuasion score of argument 23: 4\n",
      "2 Persuasion score of argument 24: 6\n",
      "2 Persuasion score of argument 25: 3\n"
     ]
    }
   ],
   "source": [
    "negative_scores = [[3, 4, 1, 1, 4, 4, 5, 5, 4, 6, 4, 3, 4, 3, 3, 3, 5, 3, 6, 3, 4, 3, 1, -10, 1], [], []]\n",
    "for k in range(1, 3):\n",
    "    for i in range(1, 26):\n",
    "        arg = get_argument_by_number(\"con_arguments.txt\", i)\n",
    "        persuasion_score = analyze_persuasion(arg)\n",
    "        print(f\"{k} Persuasion score of argument {i}: {persuasion_score}\")\n",
    "        negative_scores[k].append(persuasion_score)"
   ]
  },
  {
   "cell_type": "code",
   "execution_count": 10,
   "id": "daf72e5c-eb94-4551-bb28-77513aff0f8b",
   "metadata": {},
   "outputs": [
    {
     "data": {
      "text/plain": [
       "[[3, 4, 1, 1, 4, 4, 5, 5, 4, 6, 4, 3, 4, 3, 3, 3, 5, 3, 6, 3, 4, 3, 1, -10, 1],\n",
       " [3, 4, 1, -10, 4, 5, 4, 6, 5, 6, 3, 3, 4, 3, 3, 3, 5, 3, 6, 3, 4, 3, 6, 5, 3],\n",
       " [3, 4, -10, 1, 4, 5, 5, 5, 4, 6, 3, 4, 4, 3, 3, 3, 5, 4, 6, 3, 4, 3, 4, 6, 3]]"
      ]
     },
     "execution_count": 10,
     "metadata": {},
     "output_type": "execute_result"
    }
   ],
   "source": [
    "negative_scores"
   ]
  },
  {
   "cell_type": "code",
   "execution_count": null,
   "id": "d84fe1b4-05c8-4656-9412-f3c23dbfee82",
   "metadata": {},
   "outputs": [],
   "source": []
  }
 ],
 "metadata": {
  "kernelspec": {
   "display_name": "Python 3 (ipykernel)",
   "language": "python",
   "name": "python3"
  },
  "language_info": {
   "codemirror_mode": {
    "name": "ipython",
    "version": 3
   },
   "file_extension": ".py",
   "mimetype": "text/x-python",
   "name": "python",
   "nbconvert_exporter": "python",
   "pygments_lexer": "ipython3",
   "version": "3.10.10"
  }
 },
 "nbformat": 4,
 "nbformat_minor": 5
}
