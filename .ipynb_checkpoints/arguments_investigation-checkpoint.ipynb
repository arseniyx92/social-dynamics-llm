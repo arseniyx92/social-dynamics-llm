{
 "cells": [
  {
   "cell_type": "code",
   "execution_count": 2,
   "id": "1208cc21-5d7a-46a7-afb6-c7c32998be8f",
   "metadata": {},
   "outputs": [],
   "source": [
    "from langchain_community.chat_models import ChatOllama \n",
    "from langchain_core.prompts import ChatPromptTemplate\n",
    "from langchain_core.output_parsers import StrOutputParser\n",
    "from langchain_core.messages import AIMessage, HumanMessage\n",
    "from utils import debug_print\n",
    "from transformers import T5Tokenizer, T5ForConditionalGeneration"
   ]
  },
  {
   "cell_type": "code",
   "execution_count": 8,
   "id": "dd41bdfb-a19b-45e4-bc91-21a2227b414f",
   "metadata": {},
   "outputs": [
    {
     "name": "stdout",
     "output_type": "stream",
     "text": [
      "Persuasion Score: 4\n"
     ]
    }
   ],
   "source": [
    "import ollama\n",
    "import re\n",
    "\n",
    "def analyze_persuasion(message: str) -> int:\n",
    "    \"\"\"\n",
    "    Analyzes the persuasion power of a message and returns a score between -10 and 10.\n",
    "    \"\"\"\n",
    "    prompt = f\"\"\"Evaluate the argument's persuasive power using these criteria:\n",
    "1. Emotional impact (-10 to 10)\n",
    "2. Logical consistency (-10 to 10)\n",
    "3. Evidence quality (-10 to 10)\n",
    "4. Rhetorical effectiveness (-10 to 10)\n",
    "5. Overall tone (-10 to 10)\n",
    "\n",
    "Calculate the average score and return ONLY ONE INTEGER between -10 and 10.\n",
    "Negative scores indicate counterproductive arguments.\n",
    "\n",
    "Argument: {message}\n",
    "Final Score:\"\"\"\n",
    "    \n",
    "    response = ollama.generate(\n",
    "        model='mistral',\n",
    "        prompt=prompt,\n",
    "        options={'temperature': 0.3}\n",
    "    )\n",
    "\n",
    "    match = re.search(r'-?\\b(10|[0-9])\\b', response['response'])\n",
    "    \n",
    "    if match:\n",
    "        score = int(match.group())\n",
    "        return max(-10, min(10, score))\n",
    "    return 0\n",
    "\n",
    "user_input = \"\"\"2. **Gun Violence Epidemic**: The United States experiences a high rate of\n",
    "gun-related deaths and injuries compared to other developed countries.\n",
    "Limiting access to firearms could help mitigate this epidemic and reduce\n",
    "the number of lives lost.\"\"\"\n",
    "persuasion_score = analyze_persuasion(user_input)\n",
    "print(f\"Persuasion Score: {persuasion_score}\")"
   ]
  },
  {
   "cell_type": "code",
   "execution_count": 9,
   "id": "86330b62-6c83-4f9f-829f-afbfd771156b",
   "metadata": {},
   "outputs": [
    {
     "name": "stdout",
     "output_type": "stream",
     "text": [
      "Persuasion Score: 1\n"
     ]
    }
   ],
   "source": [
    "user_input = \"\"\"3. **Easy Access to Firearms by Children and Mentally Unstable\n",
    "Individuals**: With insufficient background checks and regulations,\n",
    "children and mentally unstable individuals can easily acquire firearms,\n",
    "posing a significant risk to themselves and others.\"\"\"\n",
    "persuasion_score = analyze_persuasion(user_input)\n",
    "print(f\"Persuasion Score: {persuasion_score}\")"
   ]
  },
  {
   "cell_type": "code",
   "execution_count": 10,
   "id": "fed9fd69-c1d7-46d8-aa46-0d39d5b83a90",
   "metadata": {},
   "outputs": [],
   "source": [
    "def get_argument_by_number(file_path, argument_number):\n",
    "    with open(file_path, \"r\") as file:\n",
    "        content = file.read()\n",
    "    arguments = content.split(\"\\n\\n\")\n",
    "    if argument_number < 1 or argument_number > len(arguments):\n",
    "        return \"Invalid argument number. Please provide a number between 1 and 25.\"\n",
    "    return arguments[argument_number - 1].strip()\n",
    "\n",
    "statement = \"People should have a right to keep and bear arms.\""
   ]
  },
  {
   "cell_type": "code",
   "execution_count": null,
   "id": "1f2a4ffb-be1c-43f1-bf31-77a58f311629",
   "metadata": {},
   "outputs": [
    {
     "name": "stdout",
     "output_type": "stream",
     "text": [
      "Persuasion score of argument 1: 3\n",
      "Persuasion score of argument 2: 1\n",
      "Persuasion score of argument 3: 4\n",
      "Persuasion score of argument 4: 5\n",
      "Persuasion score of argument 5: 4\n",
      "Persuasion score of argument 6: 3\n",
      "Persuasion score of argument 7: 5\n",
      "Persuasion score of argument 8: 6\n",
      "Persuasion score of argument 9: 6\n",
      "Persuasion score of argument 10: 5\n",
      "Persuasion score of argument 11: 6\n"
     ]
    }
   ],
   "source": [
    "positive_scores = []\n",
    "for i in range(1, 26):\n",
    "    arg = get_argument_by_number(\"pro_arguments.txt\", i)\n",
    "    persuasion_score = analyze_persuasion(arg)\n",
    "    print(f\"Persuasion score of argument {i}: {persuasion_score}\")\n",
    "    positive_scores.append(persuasion_score)"
   ]
  },
  {
   "cell_type": "code",
   "execution_count": null,
   "id": "8327a2f3-bbf5-44cd-841a-df09525c878b",
   "metadata": {},
   "outputs": [],
   "source": []
  }
 ],
 "metadata": {
  "kernelspec": {
   "display_name": "Python 3 (ipykernel)",
   "language": "python",
   "name": "python3"
  },
  "language_info": {
   "codemirror_mode": {
    "name": "ipython",
    "version": 3
   },
   "file_extension": ".py",
   "mimetype": "text/x-python",
   "name": "python",
   "nbconvert_exporter": "python",
   "pygments_lexer": "ipython3",
   "version": "3.10.10"
  }
 },
 "nbformat": 4,
 "nbformat_minor": 5
}
